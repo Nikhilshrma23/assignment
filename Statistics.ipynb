{
 "cells": [
  {
   "cell_type": "markdown",
   "id": "393acd3d-44d1-4288-9d37-01554096a62e",
   "metadata": {},
   "source": [
    "Q.1 What is statistics?"
   ]
  },
  {
   "cell_type": "markdown",
   "id": "30786dbe-b9fe-4007-ba84-728aeae1f9c0",
   "metadata": {},
   "source": [
    "ans.1 : Statistics is the science of collecting, organizing and analyizng data.\n",
    " Data:- \"facts or pieces of information\"\n",
    " example:- Height of students in classroom.\n",
    " {175cm, 180cm , 190cm , 160cm.......}"
   ]
  },
  {
   "cell_type": "code",
   "execution_count": null,
   "id": "73d68cfb-5c76-4cea-8b80-2f0b3a92435a",
   "metadata": {},
   "outputs": [],
   "source": []
  },
  {
   "cell_type": "markdown",
   "id": "1a629315-32d9-4ccb-a6b1-b49a64bc271b",
   "metadata": {},
   "source": [
    "Q.2 Define the different types of statistics and give an example of when each type might be used."
   ]
  },
  {
   "cell_type": "markdown",
   "id": "f33a3235-2b3c-4614-a76d-15fdc4bbb6c6",
   "metadata": {},
   "source": [
    "ans.2 : There are two types of statistics :-\n",
    "(1) : Descriptive statistics\n",
    "(2) : Inferential statistics \n",
    "\n",
    "[1] Descriptive statistics :- \n",
    "Defintion : It consists of organizing and summarizing data .\n",
    "    1. Measure of Central tendency[Mean, Median , Mode]\n",
    "    2. Measure of Dispersion [Variance, Deviation std]\n",
    "    3. Different type of Distribution of of data :-\n",
    "    ex:- Histogram, PDF, PMF\n",
    "    \n",
    "[2] Inferential statistics :- \n",
    "Definition : It consists of using data you have measured to form conclusion .\n",
    "example:-\n",
    "(1) Z- test }Hypothesis testing \n",
    "(2) T- test }HO , H , P value , significance value \n",
    "(3) CHI SQUARE"
   ]
  },
  {
   "cell_type": "code",
   "execution_count": null,
   "id": "54fd8ed4-d0d2-4650-862c-c91d17625391",
   "metadata": {},
   "outputs": [],
   "source": []
  },
  {
   "cell_type": "markdown",
   "id": "9ae1d8fe-d60c-4ea3-a134-df0ac74361d1",
   "metadata": {},
   "source": [
    "Q.3 What are the different types of data and how do they differ from each other? Provide an example of\n",
    "each type of data."
   ]
  },
  {
   "cell_type": "markdown",
   "id": "86650d9c-5526-4939-aa01-364f14798a6e",
   "metadata": {},
   "source": [
    "ans.3: There are two types of data \n",
    "  [1] Quantitative Data [+,-,%,]\n",
    "  [2] Qualitative Data (categorical DATA)  \n",
    "\n",
    "[1] Quantitative Data =\n",
    "                     1. Discrete (whole number)\n",
    "                     2. Continous (Any value ex:- Weight,Height,Tempreature,Speed)\n",
    "                \n",
    "[2] Qualitative Data = \n",
    "                     1. Nominal (ex:- Gender (M,F) , Blood Group , Pin code)\n",
    "                     2. Ordinal (Rank ex:- Customer feedback , Good , Bad , Better)"
   ]
  },
  {
   "cell_type": "code",
   "execution_count": null,
   "id": "26a64fca-550a-4752-8608-520e45aa4101",
   "metadata": {},
   "outputs": [],
   "source": []
  },
  {
   "cell_type": "markdown",
   "id": "51f69836-bc26-4754-bb23-13033f7fee87",
   "metadata": {},
   "source": [
    "Q.4 Categorise the following datasets with respect to quantitative and qualitative data types:\n",
    "(i) Grading in exam: A+, A, B+, B, C+, C, D, E\n",
    "(ii) Colour of mangoes: yellow, green, orange, red\n",
    "(iii) Height data of a class: [178.9, 179, 179.5, 176, 177.2, 178.3, 175.8,...]\n",
    "(iv) Number of mangoes exported by a farm: [500, 600, 478, 672, ...]"
   ]
  },
  {
   "cell_type": "markdown",
   "id": "6c03be52-2f76-49b2-b860-59c0efd7f623",
   "metadata": {},
   "source": [
    "ans.4 (1) Qualitative Data \n",
    "      (2) Quantitative Data \n",
    "      (3) Quantitative Data \n",
    "      (4) Quantitative Data "
   ]
  },
  {
   "cell_type": "code",
   "execution_count": null,
   "id": "50fd5c6c-ff9c-4544-b386-1ba1b44c8a58",
   "metadata": {},
   "outputs": [],
   "source": []
  },
  {
   "cell_type": "markdown",
   "id": "0ce2cce2-53a5-49ce-bf7c-cd62b6c9a297",
   "metadata": {},
   "source": [
    "Q.5 Explain the concept of levels of measurement and give an example of a variable for each level."
   ]
  },
  {
   "cell_type": "markdown",
   "id": "58c47a8c-3fd9-4f1d-95ce-8e6b378c83cf",
   "metadata": {},
   "source": [
    "ans.5 Scale of Measurment \n",
    "     (1) Noiminal Scale Data \n",
    "     (2) Ordinal Scale Data\n",
    "     (3) Interval Scale Data \n",
    "     (4) Ratio Scale Data \n",
    "     \n",
    "[1] Nominal Scale Data:-\n",
    "    (1). Qualitative/Categorical (ex:- Gender , Colors , Lebels)\n",
    "    (2). Order does not matter (ex:- Favourite color : Red - 5 - 5% , Blue - 3 - 3% , Orange - 2 - 20%)\n",
    "    \n",
    "[2] Ordinal Scale Data:-\n",
    "    (1). Ranking is important \n",
    "    (2). Order matter \n",
    "    (3). Difference can not be measured\n",
    "       ex:- 1.Best , 2.Good , 3. Bad\n",
    "            2. Working Professional\n",
    "                 Monday (low Rank)\n",
    "                 Tuesday (some more Rank)\n",
    "                 Wednesday (more Rank)\n",
    "                 Thursday (more more Rank)\n",
    "                 Friday  (too much Rank)\n",
    "            3. Race:- \n",
    "                     1st position took 4:20min for complete race\n",
    "                     2nd position took 5:30min for complete race\n",
    "                     3rd position took 6:00min for complete race\n",
    "                     \n",
    "[3] Interval Scale Data:- \n",
    "         (1) The order matter\n",
    "         (2) Difference can be measured \n",
    "         (3) Ratio cannot be measured \n",
    "         (4) No True \"0\" starting point\n",
    "             ex:- Tempreature Variable\n",
    "                    30F \n",
    "                    60F\n",
    "                    90F\n",
    "                    120F\n",
    "                    \n",
    "[4] Ratio Scale Data:- \n",
    "         (1). The Order matter \n",
    "         (2). Differences are measurable \n",
    "         (3). Contains a \"0\" starting point\n",
    "             ex:- Students marks in a class\n",
    "             Asscending:- 30 , 40 , 50 , 60 , 75 , 90\n",
    "                           40-30 = 10\n",
    "                           50-30 = 20\n",
    "                            Ratio = 90/30 = 3:1\n",
    "                              \n",
    "                    "
   ]
  },
  {
   "cell_type": "code",
   "execution_count": null,
   "id": "c324ba87-207d-4259-806f-1c0693cfd8ca",
   "metadata": {},
   "outputs": [],
   "source": []
  },
  {
   "cell_type": "markdown",
   "id": "8711b205-1b14-4bee-8256-8f1bee8f5dbb",
   "metadata": {},
   "source": [
    "Q6. Why is it important to understand the level of measurement when analyzing data? Provide an\n",
    "example to illustrate your answer."
   ]
  },
  {
   "cell_type": "markdown",
   "id": "395ec923-f48f-46bf-b42c-776242880db8",
   "metadata": {},
   "source": [
    "ans.6 : It is important to understand the level of measurement of variables in research, because the level of measurement determines the type of statistical analysis that can be conducted, and, therefore, the type of conclusions that can be drawn from the research.\n"
   ]
  },
  {
   "cell_type": "code",
   "execution_count": null,
   "id": "654132c5-8932-407d-bd82-f4b03a44e684",
   "metadata": {},
   "outputs": [],
   "source": []
  },
  {
   "cell_type": "markdown",
   "id": "9417273d-3328-46dd-bced-fd88f0de6ff2",
   "metadata": {},
   "source": [
    "Q.7 How nominal data type is different from ordinal data type."
   ]
  },
  {
   "cell_type": "markdown",
   "id": "59e83394-f2aa-4066-92be-dd576c819220",
   "metadata": {},
   "source": [
    "ans.7 : Nominal data is classified without a natural order or rank, whereas ordinal data has a predetermined or natural order. On the other hand, numerical or quantitative data will always be a number that can be measured.\n",
    "       NOMINAL SCALE DATA:\n",
    "       \n",
    "         (1) : Qualitative / Categorical \n",
    "          ex:- Gender,Colors,Lebels etc.\n",
    "          \n",
    "         (2) : Order does not matter\n",
    "         ex:- Favourite color \n",
    "            Red - 5 - 50%\n",
    "            Blue - 3 - 30%\n",
    "            Orange - 2 - 20%\n",
    "            "
   ]
  },
  {
   "cell_type": "code",
   "execution_count": null,
   "id": "6f913f7d-8131-4f78-9bea-894c0532a5ea",
   "metadata": {},
   "outputs": [],
   "source": []
  },
  {
   "cell_type": "markdown",
   "id": "2fec37db-58c4-4a8c-a834-790baaf94391",
   "metadata": {},
   "source": [
    "Q8. Which type of plot can be used to display data in terms of range?"
   ]
  },
  {
   "cell_type": "markdown",
   "id": "b1d18e25-2033-4a15-a34c-9f4eb847b710",
   "metadata": {},
   "source": [
    "ans.8 : Histogram. If the groups depicted in a bar chart are actually continuous numeric ranges, we can push the bars together to generate a histogram. Bar lengths in histograms typically correspond to counts of data points, and their patterns demonstrate the distribution of variables in your data."
   ]
  },
  {
   "cell_type": "code",
   "execution_count": null,
   "id": "beb6cf1c-c696-463b-9708-f856cf7ec3d4",
   "metadata": {},
   "outputs": [],
   "source": []
  },
  {
   "cell_type": "markdown",
   "id": "1e2ce08b-055a-4e04-a35b-d6c742e99d61",
   "metadata": {},
   "source": [
    "Q9. Describe the difference between descriptive and inferential statistics. Give an example of each\n",
    "type of statistics and explain how they are used."
   ]
  },
  {
   "cell_type": "markdown",
   "id": "ad699741-622d-45e7-85fc-e624734603a5",
   "metadata": {},
   "source": [
    "ans.9 : Types of Statistics :-\n",
    "(1) Descriptive Statistics \n",
    "(2) Inferential Statistics\n",
    "\n",
    "[1] Descriptive Statistics:- It consists of organizing and summarizing data.\n",
    "                           (1) Measure of central tendency[Mean,Median,Mode]\n",
    "                           (2) Measure of Dispersion [Variable,Deviation std.]\n",
    "                           (3) Different type of Distribution of data:-\n",
    "                              ex:- HIstogram, PDF , PMF\n",
    "                \n",
    "[2] Inferential Statistics:- It consists of using data you have measured to form conclusion.\n",
    "                            (1) Z-test \n",
    "                            (2) t-test\n",
    "                            (3) CHI SQUARE\n",
    "    "
   ]
  },
  {
   "cell_type": "code",
   "execution_count": null,
   "id": "c673d079-a190-4ff1-b6f6-97478c7e5099",
   "metadata": {},
   "outputs": [],
   "source": []
  },
  {
   "cell_type": "markdown",
   "id": "cba68bf1-4b92-4701-ba76-5a5cf4d110c6",
   "metadata": {},
   "source": [
    "Q10. What are some common measures of central tendency and variability used in statistics? Explain\n",
    "how each measure can be used to describe a dataset."
   ]
  },
  {
   "cell_type": "markdown",
   "id": "bd992668-86de-4ee0-a24f-c17c69f04a93",
   "metadata": {},
   "source": [
    "ans.10 : Measure of Central tendency:-\n",
    "  (1) Mean or Average\n",
    "  (2) Median \n",
    "  (3) Mode\n",
    "  \n",
    "[1] MEAN:- \n",
    "\n",
    "population (N)\n",
    "x = {1,1,2,2,3,3,4,5,5,6}\n",
    "\n",
    "population mean(µ) = The mean, μ\n",
    ", of a population of data is given by the formula   μ=∑i=1NxiN\n",
    "   = 3.2\n",
    "\n",
    "Sample mean = x¯=∑i=1nxin = \n",
    "\n",
    "\n",
    "[2] MEDIAN:- \n",
    "\n",
    "if x = {4,5,2,3,2,1}\n",
    "\n",
    "steps:-\n",
    "(1) sort the random variable , {1,2,2,3,4,5}\n",
    "(2) no. of element\n",
    "(3) if count = even \n",
    "    {1,2,2,3,4,5}\n",
    "    Median = 2+3 / 2 = 2.5\n",
    "    \n",
    "(4) if count = odd\n",
    "    {1,2,2,3,4,5,6}\n",
    "    Median = 3\n",
    "    \n",
    "    \n",
    "[3] MODE:-\n",
    "  \n",
    "  frequency MAmximum\n",
    "  {2,1,1,1,4,5,7,8,9,9,10}\n",
    "\n",
    "Mode = 1"
   ]
  },
  {
   "cell_type": "code",
   "execution_count": null,
   "id": "38aa9e42-9572-49ce-8022-82df4906209c",
   "metadata": {},
   "outputs": [],
   "source": []
  }
 ],
 "metadata": {
  "kernelspec": {
   "display_name": "Python 3 (ipykernel)",
   "language": "python",
   "name": "python3"
  },
  "language_info": {
   "codemirror_mode": {
    "name": "ipython",
    "version": 3
   },
   "file_extension": ".py",
   "mimetype": "text/x-python",
   "name": "python",
   "nbconvert_exporter": "python",
   "pygments_lexer": "ipython3",
   "version": "3.10.8"
  }
 },
 "nbformat": 4,
 "nbformat_minor": 5
}
