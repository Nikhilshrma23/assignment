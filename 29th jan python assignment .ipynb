{
 "cells": [
  {
   "cell_type": "code",
   "execution_count": null,
   "id": "62990029-efc5-4778-8bc2-2c1ac6d91be3",
   "metadata": {},
   "outputs": [],
   "source": [
    "Question no.1\n",
    "\n",
    "Answer : Guido van Rossum"
   ]
  },
  {
   "cell_type": "code",
   "execution_count": null,
   "id": "a2fd5ac3-020a-49d8-b825-b770b2dcca3a",
   "metadata": {},
   "outputs": [],
   "source": [
    "Question no.2\n",
    "\n",
    "Answer : Pyhton supports multiple programming paradigms beyond objected-oriented programming such as procedural and functional programming"
   ]
  },
  {
   "cell_type": "code",
   "execution_count": null,
   "id": "eab7dc1d-8059-48e5-b43f-d20a49439ecb",
   "metadata": {},
   "outputs": [],
   "source": [
    "Question no.3\n",
    "\n",
    "Answer : Yes , Python is a case-sensitive programming language ,this means that it considers uppercase and lowercase letters differently."
   ]
  },
  {
   "cell_type": "code",
   "execution_count": null,
   "id": "5fa1ea0c-1243-45ac-a8d0-307e23d4f4b8",
   "metadata": {},
   "outputs": [],
   "source": [
    "Question no.4\n",
    "\n",
    "Answer : pyc: This is the file extension for compiled Python code files. When a . py file is executed, the Python interpreter compiles the code to bytecode and saves it in a . pyc file to improve performance on subsequent executions."
   ]
  },
  {
   "cell_type": "code",
   "execution_count": null,
   "id": "cf250edb-c9c5-427f-959d-c93959550db6",
   "metadata": {},
   "outputs": [],
   "source": [
    "Question no.5\n",
    "\n",
    "Answer : Python is an interpreted language, which means the source code of a Python program is converted into bytecode that is then executed by the Python virtual machine. Python is different from major compiled languages, such as C and C + +, as Python code is not required to be built and linked like code for these languages."
   ]
  },
  {
   "cell_type": "code",
   "execution_count": null,
   "id": "f7b56785-7c1c-4c28-814a-d242c016b30b",
   "metadata": {},
   "outputs": [],
   "source": [
    "Question no.6\n",
    "\n",
    "Answer : The following are blocks: a module, a function body, and a class definition. Each command typed interactively is a block. A script file (a file given as standard input to the interpreter or specified as a command line argument to the interpreter) is a code block."
   ]
  },
  {
   "cell_type": "code",
   "execution_count": null,
   "id": "ebead8c1-dcdc-4b75-8ade-a5a2f0a430c6",
   "metadata": {},
   "outputs": [],
   "source": [
    "Question no.7\n",
    "\n",
    "Answer : We can use the # character to write the comment in python."
   ]
  },
  {
   "cell_type": "code",
   "execution_count": null,
   "id": "de271054-5193-4a70-973e-075bc07cc300",
   "metadata": {},
   "outputs": [],
   "source": [
    "Question no.8\n",
    "\n",
    "Answer : The function sys. version can help us to find the version of python that we are currently working on. It also contains information on the build number and compiler used."
   ]
  },
  {
   "cell_type": "code",
   "execution_count": null,
   "id": "5364d415-0520-4695-bf59-18c2a74ec672",
   "metadata": {},
   "outputs": [],
   "source": [
    "Question no.9\n",
    "\n",
    "Answer : Python supports the creation of anonymous functions (i.e. functions that are not bound to a name) at runtime, using a construct called lambda. Lambda functions are restricted to a single expression. They can be used wherever normal functions can be used."
   ]
  },
  {
   "cell_type": "code",
   "execution_count": null,
   "id": "84de9a09-73f5-4681-b78b-454fc11fd7af",
   "metadata": {},
   "outputs": [],
   "source": [
    "Question no.10\n",
    "\n",
    "Answer : pip Install Packages\n",
    "Developed in 2008, pip (an acronym of “pip Install Packages”) is today the standard tool for installing Python packages and their dependencies in a secure manner. Most recent distributions of Python come with pip preinstalled. Python 2.7."
   ]
  },
  {
   "cell_type": "code",
   "execution_count": null,
   "id": "c4b88b4f-7e32-45da-b5fb-b406121178e3",
   "metadata": {},
   "outputs": [],
   "source": [
    "Question no.11\n",
    "\n",
    "Answer : Python has a set of built-in functions.\n",
    "...\n",
    "Python Built in Functions.\n",
    "Function\tDescription\n",
    "int()\tReturns an integer number\n",
    "isinstance()\tReturns True if a specified object is an instance of a specified object\n",
    "issubclass()\tReturns True if a specified class is a subclass of a specified object\n",
    "iter()\tReturns an iterator object"
   ]
  },
  {
   "cell_type": "code",
   "execution_count": null,
   "id": "1a6939b6-0c29-4282-a078-c1b049985195",
   "metadata": {},
   "outputs": [],
   "source": [
    "Question no.12\n",
    "\n",
    "Answer : 79 characters\n",
    "An identifier can have a maximum length of 79 characters in Python. Python is one of the most popular programming languages. Guido van Rossum created it, and it was released in 1991."
   ]
  },
  {
   "cell_type": "code",
   "execution_count": null,
   "id": "3a90b57f-7711-4598-81fa-9ee38d9d55c5",
   "metadata": {},
   "outputs": [],
   "source": [
    "Question no: 13\n",
    "\n",
    "Answer : Following benefits of using python:\n",
    "Earning Potential. Python is the second-highest paid computer language, according to Indeed. ...\n",
    "Ease of Comprehension. One of the top benefits of Python is that it is easy to learn and fun to use. ...\n",
    "Flexibility. Not only is Python easy to learn, but also, it's flexible. ...\n",
    "Used in Many Industries."
   ]
  },
  {
   "cell_type": "code",
   "execution_count": null,
   "id": "e386e35c-45ba-4800-a9e9-e96992fa5854",
   "metadata": {},
   "outputs": [],
   "source": [
    "Question no.14\n",
    "\n",
    "Answer : Python uses the dynamic memory allocation which is managed by the Heap data structure. Memory Heap holds the objects and other data structures that will be used in the program. Python memory manager manages the allocation or de-allocation of the heap memory space through the API functions.\n"
   ]
  },
  {
   "cell_type": "code",
   "execution_count": null,
   "id": "da7b4e36-31b0-4f71-af1c-ff1f95751bd5",
   "metadata": {},
   "outputs": [],
   "source": [
    "Question no.15\n",
    "\n",
    "Answer : The complete path of python.exe can be added by:\n",
    "1.Right-clicking This PC and going to Properties.\n",
    "2.Clicking on the Advanced system settings in the menu on the left.\n",
    "3.Clicking on the Environment Variables button o​n the bottom right.\n",
    "4.In the System variables section, selecting the Path variable and clicking on Edit. \n",
    "5.Clicking on New and entering Python’s install directory"
   ]
  },
  {
   "cell_type": "code",
   "execution_count": null,
   "id": "ae6ae723-efdd-49ce-a2d6-04b22eedf1b1",
   "metadata": {},
   "outputs": [],
   "source": [
    "Question no.16\n",
    "\n",
    "Answer : Indentation is important to Python, because it's how you determine scope. Scope is how Python knows what code belongs to what part of the program."
   ]
  }
 ],
 "metadata": {
  "kernelspec": {
   "display_name": "Python 3 (ipykernel)",
   "language": "python",
   "name": "python3"
  },
  "language_info": {
   "codemirror_mode": {
    "name": "ipython",
    "version": 3
   },
   "file_extension": ".py",
   "mimetype": "text/x-python",
   "name": "python",
   "nbconvert_exporter": "python",
   "pygments_lexer": "ipython3",
   "version": "3.10.8"
  }
 },
 "nbformat": 4,
 "nbformat_minor": 5
}
