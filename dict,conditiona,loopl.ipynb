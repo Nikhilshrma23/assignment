{
 "cells": [
  {
   "cell_type": "code",
   "execution_count": 1,
   "id": "368bb80d-9cc0-4f29-b591-519e9c0d9b26",
   "metadata": {},
   "outputs": [],
   "source": [
    "d = {}"
   ]
  },
  {
   "cell_type": "code",
   "execution_count": 2,
   "id": "35d4caab-6fed-4251-b9b0-9770ceac58b6",
   "metadata": {},
   "outputs": [
    {
     "data": {
      "text/plain": [
       "dict"
      ]
     },
     "execution_count": 2,
     "metadata": {},
     "output_type": "execute_result"
    }
   ],
   "source": [
    "type(d)"
   ]
  },
  {
   "cell_type": "code",
   "execution_count": 3,
   "id": "46392f7c-3486-4313-b8ed-d0edbe091c4e",
   "metadata": {},
   "outputs": [],
   "source": [
    "d1 = {'key' : \"nikhil\"}"
   ]
  },
  {
   "cell_type": "code",
   "execution_count": 4,
   "id": "20fdc42e-2ccc-48cd-abd8-0db5e6561731",
   "metadata": {},
   "outputs": [
    {
     "data": {
      "text/plain": [
       "{'key': 'nikhil'}"
      ]
     },
     "execution_count": 4,
     "metadata": {},
     "output_type": "execute_result"
    }
   ],
   "source": [
    "d1"
   ]
  },
  {
   "cell_type": "code",
   "execution_count": 8,
   "id": "f1dda03d-034a-4a70-a78e-7caa16d91ab2",
   "metadata": {},
   "outputs": [],
   "source": [
    "d2 = {\"name\" : \"nikhil\", \"email\" : \"ns@gmail.com\" , \"number\" : 334534} "
   ]
  },
  {
   "cell_type": "code",
   "execution_count": 9,
   "id": "f4ffd349-0559-4f6a-b194-4b9ed1490cca",
   "metadata": {},
   "outputs": [
    {
     "data": {
      "text/plain": [
       "{'name': 'nikhil', 'email': 'ns@gmail.com', 'number': 334534}"
      ]
     },
     "execution_count": 9,
     "metadata": {},
     "output_type": "execute_result"
    }
   ],
   "source": [
    "d2"
   ]
  },
  {
   "cell_type": "code",
   "execution_count": 12,
   "id": "6eac80ea-adfe-47d2-b4b5-4fe54d347fce",
   "metadata": {},
   "outputs": [],
   "source": [
    "d3 = {234 : \"nikhil\" }"
   ]
  },
  {
   "cell_type": "code",
   "execution_count": 13,
   "id": "ddcebbdc-200e-4474-b05d-74dc18a9f4e0",
   "metadata": {},
   "outputs": [
    {
     "data": {
      "text/plain": [
       "{234: 'nikhil'}"
      ]
     },
     "execution_count": 13,
     "metadata": {},
     "output_type": "execute_result"
    }
   ],
   "source": [
    "d3"
   ]
  },
  {
   "cell_type": "code",
   "execution_count": 15,
   "id": "b849ce2f-ff6f-4231-b714-4c363a65d4ce",
   "metadata": {},
   "outputs": [],
   "source": [
    "d3 = {234 : \"nikhil\" , \"_wer\" : \"sharma\", True : 242324}"
   ]
  },
  {
   "cell_type": "code",
   "execution_count": 16,
   "id": "14c518e6-4abb-444a-9700-23368a967424",
   "metadata": {},
   "outputs": [
    {
     "data": {
      "text/plain": [
       "{234: 'nikhil', '_wer': 'sharma', True: 242324}"
      ]
     },
     "execution_count": 16,
     "metadata": {},
     "output_type": "execute_result"
    }
   ],
   "source": [
    "d3"
   ]
  },
  {
   "cell_type": "code",
   "execution_count": 18,
   "id": "f6483d4e-866a-40db-80bb-e4f01b3315d8",
   "metadata": {},
   "outputs": [
    {
     "data": {
      "text/plain": [
       "'nikhil'"
      ]
     },
     "execution_count": 18,
     "metadata": {},
     "output_type": "execute_result"
    }
   ],
   "source": [
    "d3[234]"
   ]
  },
  {
   "cell_type": "code",
   "execution_count": 19,
   "id": "5f633177-b1f8-42ca-b662-525540ebb121",
   "metadata": {},
   "outputs": [
    {
     "data": {
      "text/plain": [
       "242324"
      ]
     },
     "execution_count": 19,
     "metadata": {},
     "output_type": "execute_result"
    }
   ],
   "source": [
    "d3[True]"
   ]
  },
  {
   "cell_type": "code",
   "execution_count": 20,
   "id": "447c35cd-df3d-446d-8c0a-f60277e677b0",
   "metadata": {},
   "outputs": [
    {
     "data": {
      "text/plain": [
       "242324"
      ]
     },
     "execution_count": 20,
     "metadata": {},
     "output_type": "execute_result"
    }
   ],
   "source": [
    "d3[1]"
   ]
  },
  {
   "cell_type": "code",
   "execution_count": 22,
   "id": "244d8bef-b7cd-43d9-afb2-3ac220dd945b",
   "metadata": {},
   "outputs": [],
   "source": [
    "d4 = {\"name\" : \"nikhil\", \"mail_id\" : \"ns@gmail.com\", \"name\" : \"nikhil\"}"
   ]
  },
  {
   "cell_type": "code",
   "execution_count": 23,
   "id": "9ef8c22b-d297-49a1-b375-49bc59a6a2d2",
   "metadata": {},
   "outputs": [
    {
     "data": {
      "text/plain": [
       "'nikhil'"
      ]
     },
     "execution_count": 23,
     "metadata": {},
     "output_type": "execute_result"
    }
   ],
   "source": [
    "d4[\"name\"]"
   ]
  },
  {
   "cell_type": "code",
   "execution_count": 24,
   "id": "e171d878-be26-4d8a-9d20-8d3d4ef3459f",
   "metadata": {},
   "outputs": [],
   "source": [
    "d5 = {\"company\" : \"pwskills\" , \"course\" : [\"web dev\" , \"data science\" , \"java with dsa system design\"]}"
   ]
  },
  {
   "cell_type": "code",
   "execution_count": 25,
   "id": "4fd22bb8-218f-4218-b3fd-956302484cd3",
   "metadata": {},
   "outputs": [
    {
     "data": {
      "text/plain": [
       "{'company': 'pwskills',\n",
       " 'course': ['web dev', 'data science', 'java with dsa system design']}"
      ]
     },
     "execution_count": 25,
     "metadata": {},
     "output_type": "execute_result"
    }
   ],
   "source": [
    "d5"
   ]
  },
  {
   "cell_type": "code",
   "execution_count": 26,
   "id": "6abf3047-a276-4161-bd48-bbeee3025d92",
   "metadata": {},
   "outputs": [
    {
     "data": {
      "text/plain": [
       "['web dev', 'data science', 'java with dsa system design']"
      ]
     },
     "execution_count": 26,
     "metadata": {},
     "output_type": "execute_result"
    }
   ],
   "source": [
    "d5[\"course\"]"
   ]
  },
  {
   "cell_type": "code",
   "execution_count": 28,
   "id": "eceac183-a791-450f-900d-f548c4f373ed",
   "metadata": {},
   "outputs": [
    {
     "data": {
      "text/plain": [
       "'java with dsa system design'"
      ]
     },
     "execution_count": 28,
     "metadata": {},
     "output_type": "execute_result"
    }
   ],
   "source": [
    "d5[\"course\"][2]"
   ]
  },
  {
   "cell_type": "code",
   "execution_count": 35,
   "id": "6c15740d-6171-4ba1-88ef-3f17100b4f2a",
   "metadata": {},
   "outputs": [],
   "source": [
    "d6 = {\"number\" : [2,34,3,34,34] , \"assignment\" : (1,2,3,4,5,6) , \"launch_date\" : {28,12,14}, \"class_time\" : {\"web_dev\" : 8 }, \"Data science maaters\" : 8 , \"java with dsa and system design\" : 7 }"
   ]
  },
  {
   "cell_type": "code",
   "execution_count": 36,
   "id": "ccbda5d5-8169-4e23-9422-2009ee4d4d83",
   "metadata": {},
   "outputs": [
    {
     "data": {
      "text/plain": [
       "{'number': [2, 34, 3, 34, 34],\n",
       " 'assignment': (1, 2, 3, 4, 5, 6),\n",
       " 'launch_date': {12, 14, 28},\n",
       " 'class_time': {'web_dev': 8},\n",
       " 'Data science maaters': 8,\n",
       " 'java with dsa and system design': 7}"
      ]
     },
     "execution_count": 36,
     "metadata": {},
     "output_type": "execute_result"
    }
   ],
   "source": [
    "d6"
   ]
  },
  {
   "cell_type": "code",
   "execution_count": 37,
   "id": "87ffab9d-f6a4-4f96-9059-3a6942d3d0fa",
   "metadata": {},
   "outputs": [
    {
     "data": {
      "text/plain": [
       "7"
      ]
     },
     "execution_count": 37,
     "metadata": {},
     "output_type": "execute_result"
    }
   ],
   "source": [
    "d6[\"java with dsa and system design\"]"
   ]
  },
  {
   "cell_type": "code",
   "execution_count": 42,
   "id": "e0b099af-f4c0-40d6-a8c2-57271c8402cc",
   "metadata": {},
   "outputs": [
    {
     "data": {
      "text/plain": [
       "{'web_dev': 8}"
      ]
     },
     "execution_count": 42,
     "metadata": {},
     "output_type": "execute_result"
    }
   ],
   "source": [
    "d6['class_time']"
   ]
  },
  {
   "cell_type": "code",
   "execution_count": 43,
   "id": "0d6778c7-8f7f-41c9-8687-ecb1238cd093",
   "metadata": {},
   "outputs": [
    {
     "data": {
      "text/plain": [
       "{'number': [2, 34, 3, 34, 34],\n",
       " 'assignment': (1, 2, 3, 4, 5, 6),\n",
       " 'launch_date': {12, 14, 28},\n",
       " 'class_time': {'web_dev': 8},\n",
       " 'Data science maaters': 8,\n",
       " 'java with dsa and system design': 7}"
      ]
     },
     "execution_count": 43,
     "metadata": {},
     "output_type": "execute_result"
    }
   ],
   "source": [
    "d6"
   ]
  },
  {
   "cell_type": "code",
   "execution_count": 44,
   "id": "c1ff634b-bbe2-453f-a747-11d01cda0b94",
   "metadata": {},
   "outputs": [],
   "source": [
    "d6['mentor'] = [\"nikhil\",\"anurag\",\"hayder\",\"krish\"]"
   ]
  },
  {
   "cell_type": "code",
   "execution_count": 45,
   "id": "d0c2ba08-71ec-4ee8-8e26-d065d5cc0e73",
   "metadata": {},
   "outputs": [
    {
     "data": {
      "text/plain": [
       "{'number': [2, 34, 3, 34, 34],\n",
       " 'assignment': (1, 2, 3, 4, 5, 6),\n",
       " 'launch_date': {12, 14, 28},\n",
       " 'class_time': {'web_dev': 8},\n",
       " 'Data science maaters': 8,\n",
       " 'java with dsa and system design': 7,\n",
       " 'mentor': ['nikhil', 'anurag', 'hayder', 'krish']}"
      ]
     },
     "execution_count": 45,
     "metadata": {},
     "output_type": "execute_result"
    }
   ],
   "source": [
    "d6"
   ]
  },
  {
   "cell_type": "code",
   "execution_count": 46,
   "id": "e0e3d4d3-5d5c-4cfd-a79f-0bca6b5a9fd7",
   "metadata": {},
   "outputs": [],
   "source": [
    "del d6[\"number\"]"
   ]
  },
  {
   "cell_type": "code",
   "execution_count": 47,
   "id": "4bb67b36-9c70-4035-be9c-f5cdddb34bb3",
   "metadata": {},
   "outputs": [
    {
     "data": {
      "text/plain": [
       "{'assignment': (1, 2, 3, 4, 5, 6),\n",
       " 'launch_date': {12, 14, 28},\n",
       " 'class_time': {'web_dev': 8},\n",
       " 'Data science maaters': 8,\n",
       " 'java with dsa and system design': 7,\n",
       " 'mentor': ['nikhil', 'anurag', 'hayder', 'krish']}"
      ]
     },
     "execution_count": 47,
     "metadata": {},
     "output_type": "execute_result"
    }
   ],
   "source": [
    "d6"
   ]
  },
  {
   "cell_type": "code",
   "execution_count": 49,
   "id": "add2e457-b227-4569-9761-61164a2e90af",
   "metadata": {},
   "outputs": [
    {
     "data": {
      "text/plain": [
       "['assignment',\n",
       " 'launch_date',\n",
       " 'class_time',\n",
       " 'Data science maaters',\n",
       " 'java with dsa and system design',\n",
       " 'mentor']"
      ]
     },
     "execution_count": 49,
     "metadata": {},
     "output_type": "execute_result"
    }
   ],
   "source": [
    "list(d6.keys())"
   ]
  },
  {
   "cell_type": "code",
   "execution_count": 52,
   "id": "3d11457b-116e-40ca-872f-b2dcd32dbbfa",
   "metadata": {},
   "outputs": [
    {
     "data": {
      "text/plain": [
       "[(1, 2, 3, 4, 5, 6),\n",
       " {12, 14, 28},\n",
       " {'web_dev': 8},\n",
       " 8,\n",
       " 7,\n",
       " ['nikhil', 'anurag', 'hayder', 'krish']]"
      ]
     },
     "execution_count": 52,
     "metadata": {},
     "output_type": "execute_result"
    }
   ],
   "source": [
    "list(d6.values())"
   ]
  },
  {
   "cell_type": "code",
   "execution_count": 53,
   "id": "dc97236f-ea67-4b30-9e34-16b16cc5f488",
   "metadata": {},
   "outputs": [
    {
     "data": {
      "text/plain": [
       "dict_items([('assignment', (1, 2, 3, 4, 5, 6)), ('launch_date', {28, 12, 14}), ('class_time', {'web_dev': 8}), ('Data science maaters', 8), ('java with dsa and system design', 7), ('mentor', ['nikhil', 'anurag', 'hayder', 'krish'])])"
      ]
     },
     "execution_count": 53,
     "metadata": {},
     "output_type": "execute_result"
    }
   ],
   "source": [
    "d6.items()"
   ]
  },
  {
   "cell_type": "code",
   "execution_count": 54,
   "id": "40dd05ea-9252-4b03-8192-6849afcf9f9d",
   "metadata": {},
   "outputs": [
    {
     "data": {
      "text/plain": [
       "[('assignment', (1, 2, 3, 4, 5, 6)),\n",
       " ('launch_date', {12, 14, 28}),\n",
       " ('class_time', {'web_dev': 8}),\n",
       " ('Data science maaters', 8),\n",
       " ('java with dsa and system design', 7),\n",
       " ('mentor', ['nikhil', 'anurag', 'hayder', 'krish'])]"
      ]
     },
     "execution_count": 54,
     "metadata": {},
     "output_type": "execute_result"
    }
   ],
   "source": [
    "list(d6.items())"
   ]
  },
  {
   "cell_type": "code",
   "execution_count": 56,
   "id": "0901cbb3-eb98-48d0-ae6c-5f03b90b8eb9",
   "metadata": {},
   "outputs": [
    {
     "data": {
      "text/plain": [
       "(1, 2, 3, 4, 5, 6)"
      ]
     },
     "execution_count": 56,
     "metadata": {},
     "output_type": "execute_result"
    }
   ],
   "source": [
    "d6.pop(\"assignment\")"
   ]
  },
  {
   "cell_type": "code",
   "execution_count": 57,
   "id": "60e7a731-c036-4a61-b56b-2b3399ee8a81",
   "metadata": {},
   "outputs": [
    {
     "data": {
      "text/plain": [
       "{'launch_date': {12, 14, 28},\n",
       " 'class_time': {'web_dev': 8},\n",
       " 'Data science maaters': 8,\n",
       " 'java with dsa and system design': 7,\n",
       " 'mentor': ['nikhil', 'anurag', 'hayder', 'krish']}"
      ]
     },
     "execution_count": 57,
     "metadata": {},
     "output_type": "execute_result"
    }
   ],
   "source": [
    "d6"
   ]
  },
  {
   "cell_type": "code",
   "execution_count": 59,
   "id": "70f3f8f5-2802-4cc1-a3f6-257368ef978d",
   "metadata": {},
   "outputs": [
    {
     "ename": "TypeError",
     "evalue": "pop expected at least 1 argument, got 0",
     "output_type": "error",
     "traceback": [
      "\u001b[0;31m---------------------------------------------------------------------------\u001b[0m",
      "\u001b[0;31mTypeError\u001b[0m                                 Traceback (most recent call last)",
      "Cell \u001b[0;32mIn[59], line 1\u001b[0m\n\u001b[0;32m----> 1\u001b[0m \u001b[43md6\u001b[49m\u001b[38;5;241;43m.\u001b[39;49m\u001b[43mpop\u001b[49m\u001b[43m(\u001b[49m\u001b[43m)\u001b[49m\n",
      "\u001b[0;31mTypeError\u001b[0m: pop expected at least 1 argument, got 0"
     ]
    }
   ],
   "source": [
    "d6.pop()"
   ]
  },
  {
   "cell_type": "code",
   "execution_count": 14,
   "id": "0c547897-0393-47fb-a839-4b74816cca3b",
   "metadata": {},
   "outputs": [
    {
     "name": "stdin",
     "output_type": "stream",
     "text": [
      "enter your marks 90\n"
     ]
    },
    {
     "name": "stdout",
     "output_type": "stream",
     "text": [
      "you will be a part of A0 batch\n"
     ]
    }
   ],
   "source": [
    "marks = int(input(\"enter your marks\"))\n",
    "if marks >= 80:\n",
    "    print(\"you will be a part of A0 batch\")\n",
    "elif marks >= 60 and marks< 80:\n",
    "    print(\"you will be a part of A1 batch\")\n",
    "elif marks >= 40 and marks< 60:\n",
    "    print(\"you wil be a part of A2 batch\")\n",
    "else:\n",
    "    print(\"you will be a part of A3 batch\")"
   ]
  },
  {
   "cell_type": "code",
   "execution_count": 5,
   "id": "93f6ae97-a353-4031-952d-dbd4034a647f",
   "metadata": {},
   "outputs": [
    {
     "data": {
      "text/plain": [
       "False"
      ]
     },
     "execution_count": 5,
     "metadata": {},
     "output_type": "execute_result"
    }
   ],
   "source": [
    "10 >= 80"
   ]
  },
  {
   "cell_type": "code",
   "execution_count": 8,
   "id": "00e28ba8-08f7-4b4d-8ec4-c96fadf7ca6a",
   "metadata": {},
   "outputs": [
    {
     "name": "stdin",
     "output_type": "stream",
     "text": [
      "enter your marks 324\n"
     ]
    }
   ],
   "source": [
    "marks = int(input(\"enter your marks\"))"
   ]
  },
  {
   "cell_type": "code",
   "execution_count": 9,
   "id": "2c164e6b-74e2-40a4-aeff-918619b74f89",
   "metadata": {},
   "outputs": [
    {
     "data": {
      "text/plain": [
       "324"
      ]
     },
     "execution_count": 9,
     "metadata": {},
     "output_type": "execute_result"
    }
   ],
   "source": [
    "marks"
   ]
  },
  {
   "cell_type": "code",
   "execution_count": 10,
   "id": "d07e2b28-8e6e-437a-8602-eee4b1a43db3",
   "metadata": {},
   "outputs": [
    {
     "data": {
      "text/plain": [
       "int"
      ]
     },
     "execution_count": 10,
     "metadata": {},
     "output_type": "execute_result"
    }
   ],
   "source": [
    "type(marks)"
   ]
  },
  {
   "cell_type": "code",
   "execution_count": 17,
   "id": "932edc07-7129-4e6c-9e32-77abb6d5e548",
   "metadata": {},
   "outputs": [
    {
     "name": "stdin",
     "output_type": "stream",
     "text": [
      "enter price 1100\n"
     ]
    },
    {
     "name": "stdout",
     "output_type": "stream",
     "text": [
      "i will not purchase\n"
     ]
    }
   ],
   "source": [
    "price = int(input(\"enter price\"))\n",
    "if price > 1000:\n",
    "    print(\"i will not purchase\")\n",
    "else:\n",
    "    print(\"i will purchase\")"
   ]
  },
  {
   "cell_type": "code",
   "execution_count": 25,
   "id": "556adb1f-75ba-4d98-abdb-ab517812b076",
   "metadata": {},
   "outputs": [
    {
     "name": "stdin",
     "output_type": "stream",
     "text": [
      "enter price 1500\n"
     ]
    },
    {
     "name": "stdout",
     "output_type": "stream",
     "text": [
      "i will not purchase\n",
      "its ok\n"
     ]
    }
   ],
   "source": [
    "price = int(input(\"enter price\"))\n",
    "if price > 1000:\n",
    "    print(\"i will not purchase\")\n",
    "    if price> 5000:\n",
    "        print(\"this is too much\")\n",
    "    elif price < 2000:\n",
    "        print(\"its ok\")\n",
    "elif price < 1000:\n",
    "    print(\"i will purchase\")\n",
    "else:\n",
    "    print(\"not interested\")"
   ]
  },
  {
   "cell_type": "code",
   "execution_count": 26,
   "id": "8fdf2f82-74c8-40d8-a955-b66a799f6873",
   "metadata": {},
   "outputs": [],
   "source": [
    "l = [1,2,3,4,5,6,7,8]"
   ]
  },
  {
   "cell_type": "code",
   "execution_count": 28,
   "id": "9f1f4ec7-94e9-4848-87ee-4ddd43012458",
   "metadata": {},
   "outputs": [
    {
     "data": {
      "text/plain": [
       "2"
      ]
     },
     "execution_count": 28,
     "metadata": {},
     "output_type": "execute_result"
    }
   ],
   "source": [
    "l[0] +1"
   ]
  },
  {
   "cell_type": "code",
   "execution_count": 29,
   "id": "708031c8-d6fb-4dde-bb16-372be4f341b0",
   "metadata": {},
   "outputs": [],
   "source": [
    "l1 = []"
   ]
  },
  {
   "cell_type": "code",
   "execution_count": 30,
   "id": "effa64f2-6484-49d0-b1b5-7309523fcf7d",
   "metadata": {},
   "outputs": [],
   "source": [
    "l1.append(l[0]+1)"
   ]
  },
  {
   "cell_type": "code",
   "execution_count": 31,
   "id": "1c82b598-f2e6-424c-8f6e-bcdf961a5529",
   "metadata": {},
   "outputs": [
    {
     "data": {
      "text/plain": [
       "[2]"
      ]
     },
     "execution_count": 31,
     "metadata": {},
     "output_type": "execute_result"
    }
   ],
   "source": [
    "l1"
   ]
  },
  {
   "cell_type": "code",
   "execution_count": 32,
   "id": "8c651078-b61e-41cf-a53b-c7141a3203c1",
   "metadata": {},
   "outputs": [],
   "source": [
    "l = [1,2,3,4,5,6,7,8]"
   ]
  },
  {
   "cell_type": "code",
   "execution_count": 36,
   "id": "5f7c43b8-610e-40cf-9378-3e6a8b12aaee",
   "metadata": {},
   "outputs": [
    {
     "name": "stdout",
     "output_type": "stream",
     "text": [
      "2\n",
      "3\n",
      "4\n",
      "5\n",
      "6\n",
      "7\n",
      "8\n",
      "9\n"
     ]
    },
    {
     "data": {
      "text/plain": [
       "[2, 3, 4, 5, 6, 7, 8, 9]"
      ]
     },
     "execution_count": 36,
     "metadata": {},
     "output_type": "execute_result"
    }
   ],
   "source": [
    "l1 = []\n",
    "for i in l:\n",
    "    print(i+1)\n",
    "    l1.append(i+1)\n",
    "l1 "
   ]
  },
  {
   "cell_type": "code",
   "execution_count": 37,
   "id": "019603fb-48c3-4c87-9ec6-30950b95f494",
   "metadata": {},
   "outputs": [
    {
     "data": {
      "text/plain": [
       "[1, 2, 3, 4, 5, 6, 7, 8]"
      ]
     },
     "execution_count": 37,
     "metadata": {},
     "output_type": "execute_result"
    }
   ],
   "source": [
    "l"
   ]
  },
  {
   "cell_type": "code",
   "execution_count": 38,
   "id": "491bebee-0a12-4926-b0da-e02f53e4211a",
   "metadata": {},
   "outputs": [],
   "source": [
    "l = [\"nikhil\" , \"sharma\" , \"pwskills\" , \"course\"]"
   ]
  },
  {
   "cell_type": "code",
   "execution_count": 43,
   "id": "0b51a5ff-4079-4698-86bd-e5c0f9b281b5",
   "metadata": {},
   "outputs": [
    {
     "name": "stdout",
     "output_type": "stream",
     "text": [
      "nikhil\n",
      "sharma\n",
      "pwskills\n",
      "course\n"
     ]
    }
   ],
   "source": [
    "l1 = []\n",
    "for i in l:\n",
    "    print(i)\n",
    "    l1.append(i.upper())"
   ]
  },
  {
   "cell_type": "code",
   "execution_count": 44,
   "id": "1442cbc1-39be-4d07-a586-43b16a5bad39",
   "metadata": {},
   "outputs": [
    {
     "data": {
      "text/plain": [
       "['NIKHIL', 'SHARMA', 'PWSKILLS', 'COURSE']"
      ]
     },
     "execution_count": 44,
     "metadata": {},
     "output_type": "execute_result"
    }
   ],
   "source": [
    "l1"
   ]
  },
  {
   "cell_type": "code",
   "execution_count": 46,
   "id": "e9b22df5-d33a-46a6-a357-327d048e1d26",
   "metadata": {},
   "outputs": [],
   "source": [
    "l = [1,2,3,4,4,\"nikhl\",\"kumar\",324,34.456,\"abc\"]"
   ]
  },
  {
   "cell_type": "code",
   "execution_count": 48,
   "id": "f6b68a65-e536-4454-a3b4-48ecef4bb5a9",
   "metadata": {},
   "outputs": [],
   "source": [
    "l1_num = []\n",
    "l2_str = []\n",
    "for i in l:\n",
    "    if type(i) == int or type(i) == float:\n",
    "        l1_num.append(i)\n",
    "    else :\n",
    "        l2_str.append(i)\n",
    "    "
   ]
  },
  {
   "cell_type": "code",
   "execution_count": 49,
   "id": "c31f1c2e-4429-460f-9961-8c44e048bca5",
   "metadata": {},
   "outputs": [
    {
     "data": {
      "text/plain": [
       "[1, 2, 3, 4, 4, 324, 34.456]"
      ]
     },
     "execution_count": 49,
     "metadata": {},
     "output_type": "execute_result"
    }
   ],
   "source": [
    "l1_num"
   ]
  },
  {
   "cell_type": "code",
   "execution_count": 50,
   "id": "148915cb-d373-45f3-ad33-7bcc116d8ef2",
   "metadata": {},
   "outputs": [
    {
     "data": {
      "text/plain": [
       "['nikhl', 'kumar', 'abc']"
      ]
     },
     "execution_count": 50,
     "metadata": {},
     "output_type": "execute_result"
    }
   ],
   "source": [
    "l2_str"
   ]
  },
  {
   "cell_type": "code",
   "execution_count": null,
   "id": "03b43d6e-0651-415c-ab76-14548ea87134",
   "metadata": {},
   "outputs": [],
   "source": []
  }
 ],
 "metadata": {
  "kernelspec": {
   "display_name": "Python 3 (ipykernel)",
   "language": "python",
   "name": "python3"
  },
  "language_info": {
   "codemirror_mode": {
    "name": "ipython",
    "version": 3
   },
   "file_extension": ".py",
   "mimetype": "text/x-python",
   "name": "python",
   "nbconvert_exporter": "python",
   "pygments_lexer": "ipython3",
   "version": "3.10.8"
  }
 },
 "nbformat": 4,
 "nbformat_minor": 5
}
