{
 "cells": [
  {
   "cell_type": "raw",
   "id": "51430499-4813-4e46-9a3e-46b9dc76b928",
   "metadata": {},
   "source": [
    "Q.1 Explain the following with an example:\n",
    "    (1) Artificial intelligence\n",
    "    (2) Machine learning\n",
    "    (3) Deep learning\n"
   ]
  },
  {
   "cell_type": "raw",
   "id": "ec06a7f1-229e-49d7-b253-3b8b1b2348aa",
   "metadata": {},
   "source": [
    "  Answer 1 :-\n",
    "           (a) Artificial intelligence : A virtual assistant like Siri is an example of an AI that will access your contacts, identify the word “Mom,” and call the number. These assistants use NLP, ML, statistical analysis, and algorithmic execution to decide what you are asking for and try to get it for you. Voice and image search work in much the same way.\n",
    "\n",
    "           (b) Machine learninng : A virtual assistant like Siri is an example of an AI that will access your contacts, identify the word “Mom,” and call the number. These assistants use NLP, ML, statistical analysis, and algorithmic execution to decide what you are asking for and try to get it for you. Voice and image search work in much the same way.\n",
    "    \n",
    "           (c) Deep learning : Deep learning is a subset of machine learning, which is essentially a neural network with three or more layers. These neural networks attempt to simulate the behavior of the human brain—albeit far from matching its ability—allowing it to “learn” from large amounts of data."
   ]
  },
  {
   "cell_type": "raw",
   "id": "76a50ed9-0eb1-4621-9add-d54a2bf4a7d3",
   "metadata": {},
   "source": [
    "Q.2- What is supervised learning? List some examples of supervised learning."
   ]
  },
  {
   "cell_type": "raw",
   "id": "cc9572c5-71ab-43d8-a340-cb72feab2516",
   "metadata": {},
   "source": [
    "Answer 2 : \n",
    "    Supervised learning : Supervised learning is a type of machine learning in which a computer algorithm learns to make predictions or decisions oen labeled data. Labeled data is made up of previously known input variables (also known as features) and output variables (also known as labels). By analyzing patterns and relationships between input and output variables in labeled data, the algorithm learns to make predictions. Image and speech recognition, recommendation systems, and fraud detection are all examples of how supervised learning is used. \n",
    "     \n",
    "    Examples of supervised learning :\n",
    "    (1) Email Filtering\n",
    "    (2) Credit Scoring\n",
    "    (3) Voice Recognition\n",
    "    \n",
    "(1) Email Filtering: Supervised learning is commonly used in email filtering to classify incoming emails as spam or legitimate. A machine learning algorithm is trained using a labeled dataset containing examples of both spam and legitimate emails. The algorithm then extracts relevant information from each email, such as the sender’s information, the subject, the message body, and so on. It learns from the labeled dataset to identify patterns and relationships between these features and their corresponding labels (spam or legitimate). Once trained, the algorithm can use the extracted features to predict the label of new, unseen emails. If an email is predicted to be spam, it can be automatically filtered into a spam folder, saving the user’s inbox space.\n",
    " \n",
    "(2) Credit Scoring:  In credit scoring, supervised learning is used to predict the creditworthiness of loan applicants. A labeled dataset containing examples of past loan applicants and their credit history, income, employment status, and other relevant factors is used to train a machine learning algorithm. The algorithm learns to recognize patterns and relationships between these features and their corresponding labels, such as whether or not the loan was repaid. Once trained, the algorithm can predict loan repayment likelihood for new loan applicants based on their input features\n",
    "\n",
    "(3) Voice Recognition: Supervised learning is utilized in voice recognition to help virtual assistants and other applications recognize and understand spoken commands. A labeled dataset of spoken words and phrases with corresponding text transcripts is used to train a machine learning algorithm in such scenarios. The algorithm learns to recognize relationships between spoken word audio features such as pitch, amplitude, and frequency and their textual representations from the labeled dataset. Following the training phase, the algorithm can begin analyzing new audio inputs and attempting to transcribe them into text form. This allows virtual assistants to understand and respond to spoken commands like managing reminders, playing music, or controlling smart home devices."
   ]
  },
  {
   "cell_type": "raw",
   "id": "aa31d2c1-45d2-46a2-af51-139b4fec28a8",
   "metadata": {},
   "source": [
    "Q.3 What is unsupervised learning? List some examples of unsupervised learning."
   ]
  },
  {
   "cell_type": "raw",
   "id": "eb96c6ee-e0fb-4e16-988c-81b5834d70a4",
   "metadata": {},
   "source": [
    "Answer 3 :-\n",
    "    Unsupervised learning : Unsupervised learning is when it can provide a set of unlabelled data, which it is required to analyze and find patterns inside. The examples are dimension reduction and clustering. The training is supported to the machine with the group of data that has not been labeled, classified, or categorized, and the algorithm required to facilitate on that data without some supervision. The objective of unsupervised learning is to restructure the input record into new features or a set of objects with same patterns.\n",
    "\n",
    "Cluster analysis is used to form groups or clusters of the same records depending on various measures made on these records. The key design is to define the clusters in ways that can be useful for the objective of the analysis. This data has been used in several areas, such as astronomy, archaeology, medicine, chemistry, education, psychology, linguistics, and sociology.\n",
    "\n",
    "Google is an instances of clustering that needs unsupervised learning to group news items depends on their contents. Google has a set of millions of news items written on multiple topics and their clustering algorithm necessarily groups these news items into a small number that are same or associated to each other by using multiple attributes, including word frequency, sentence length, page count, etc\n",
    "\n",
    "There are various examples of Unsupervised Learning which are as follows −\n",
    "\n",
    "(1) Organize computing clusters\n",
    "(2) Social network analysis \n",
    "(3) Market segmentation\n",
    "(4) Astronomical data analysis\n",
    "\n",
    "   (1) Organize computing clusters :- The geographic areas of servers is determined on the basis of clustering of web requests received from a specific area of the world. The local server will include only the data frequently created by people of that region.\n",
    " \n",
    "   (2) Social network analysis :- Social network analysis − Social network analysis is conducted to make clusters of friends depends on the frequency of connection between them. Such analysis reveals the links between the users of some social networking website.\n",
    "\n",
    "   (3) Market segmenatation :- Sales organizations can cluster or group their users into multiple segments on the basis of their prior billed items. For instance, a big superstore can required to send an SMS about grocery elements specifically to its users of grocery rather than sending that SMS to all its users.\n",
    "\n",
    "It is not only is it cheaper but also superior; after all it can be an irrelevant irritant to those who only buy clothing from the store. The combining of users into multiple segments based on their buy history will provide the store to focus the correct users for increasing sales and enhancing its profits.\n",
    "\n",
    "   (4) Astronomical data analysis :- stronomers need high telescopes to study galaxies and stars. The design in light or combining of lights received from multiple parts of the sky help to recognize multiple galaxies, planets, and satellites."
   ]
  },
  {
   "cell_type": "raw",
   "id": "7482b615-6d6c-4c3e-8c3f-1019e284f91c",
   "metadata": {},
   "source": [
    "Q.4 What is the differece between AI,ML,DL and DS?"
   ]
  },
  {
   "cell_type": "raw",
   "id": "0f701481-1933-41e3-b6d6-166b9dfe6375",
   "metadata": {},
   "source": [
    "Answer 4 :-\n",
    "           1. Artificial Intelligence (AI)\n",
    "Humans have been obsessed with automation since the beginning of technology adoption. AI enables machines to think without any human intervention. It is a broad area of computer science. AI systems fall into three types: ANI: Artificial Narrow Intelligence, which is goal-oriented and programmed to perform a single task. AGI (Artificial General Intelligence) which allows machines to learn, understand, and act in a way that is indistinguishable from humans in a given situation. ASI (Artificial Super Intelligence) is a hypothetical AI where machines are capable of exhibiting intelligence that surpasses brightest humans.\n",
    "         \n",
    "         2. Machine Learning (ML)\n",
    "ML is a subset of AI that uses statistical learning algorithms to build smart systems. The ML systems can automatically learn and improve without explicitly being programmed. The recommendation systems on music and video streaming services are examples of ML. The machine learning algorithms are classified into three categories: supervised, unsupervised and reinforcement learning.\n",
    "        \n",
    "        3. Deep Learning (DL)\n",
    "This subset of AI is a technique that is inspired by the way a human brain filters information. It is associated with learning from examples. DL systems help a computer model to filter the input data through layers to predict and classify information. Deep Learning processes information in the same manner as the human brain. It is used in technologies such as driver-less cars. DL network architectures are classified into Convolutional Neural Networks, Recurrent Neural Networks, and Recursive Neural Networks.\n",
    "       \n",
    "       4. Data Science (DS)\n",
    "Data science is a discipline that uses various technologies and methods to analyze data. It combines computational science, statistics, mathematics, and company or business knowledge.\n",
    "\n",
    "The main goal of data science is to find patterns in data. It uses various statistical techniques to analyze and extract information from the data. Data scientists can help companies make smarter business decisions through these valuable insights. \n",
    "           \n",
    "           "
   ]
  },
  {
   "cell_type": "raw",
   "id": "8dd00c83-9728-4418-9ae9-103d47a7a5f2",
   "metadata": {},
   "source": [
    "Q.5- What are the main differences between  supervised , unsupervised and semi-supervised learning?"
   ]
  },
  {
   "cell_type": "raw",
   "id": "606b69cc-c691-4b52-b282-318a67bb220b",
   "metadata": {},
   "source": [
    "Answer 5 :-\n",
    "          1. Supervised Machine Learning :-\n",
    "          \n",
    "Supervised learning is the process where you have input variables (X) and an output variable (Y) and you use an algorithm to learn the mapping function from the input to the output.\n",
    "Y = f(X)\n",
    "The goal is to approximate the mapping function so well that when you have new input data (X) that you can predict the output variables (Y ) for that data. It is called supervised learning because the process of an algorithm learning from the training dataset can be thought of as a teacher supervising the learning process. We know the correct answers; the algorithm iteratively makes predictions on the training data and is corrected by the teacher.\n",
    "\n",
    "Supervised learning problems further grouped into regression and classification problems.\n",
    "Classification: A classification problem is when the output variable is a category, such as red or blue or disease and no disease.\n",
    "Regression: A regression problem is the output variable is a real value, such as dollars or weight.\n",
    "\n",
    "Some popular examples of supervised machine learning algorithms are:\n",
    "Linear regression for regression problems.\n",
    "Random forest for classification and regression problems.\n",
    "Support vector machines for classification problems.\n",
    "\n",
    "Strengths: Outputs always have a probabilistic interpretation, and the algorithm can be regularized to avoid overfitting.\n",
    "Weaknesses: Logistic regression may underperform when there are multiple or non-linear decision boundaries. This method is not flexible, so it does not capture more complex relationships.\n",
    "\n",
    "         \n",
    "         2. Unsupervised Machine Learning :-\n",
    "         \n",
    "Unsupervised learning is a machine learning technique, where you do not need to supervise the model. Instead, you need to allow the model to work on its own to discover information. It mainly deals with the unlabeled data. Algorithms are left to their own devises to discover and present the interesting structure in the data. Unsupervised learning is very useful in exploratory analysis because it can automatically identify structure in data. For example, if an analyst were trying to segment consumers, unsupervised clustering methods would be a great starting point for their analysis. In situations where it is either impossible or impractical for a human to propose trends in the data, unsupervised learning can provide initial insights that can then be used to test individual hypotheses.\n",
    "\n",
    "Unsupervised learning problems can be further grouped into clustering and association problems.\n",
    "Clustering: Clustering is an important concept when it comes to unsupervised learning. It mainly deals with finding a structure or pattern in a collection of uncategorized data. Clustering algorithms will process your data and find natural clusters(groups) if they exist in the data.\n",
    "Association: An association rule learning problem is where you want to discover rules that describe large portions of your data. This unsupervised technique is about discovering exciting relationships between variables in large databases.\n",
    "\n",
    "Some popular examples of unsupervised learning algorithms are:\n",
    "k-means for clustering problems.\n",
    "Apriori algorithm for association rule learning problems.\n",
    " \n",
    "        \n",
    "        3. Semi-supervised Machine Learning :-\n",
    "        \n",
    "The biggest difference between supervised and unsupervised machine learning is: Supervised machine learning algorithms are trained on datasets that include labels added by a machine learning engineer or data scientist that guide the algorithm to understand which features are important to the problem at hand. This is a very costly process, especially when dealing with large volumes of data.Unsupervised machine learning algorithms, on the other hand, are trained on unlabeled data and must determine feature importance on their own based on inherent patterns in the data, The most basic disadvantage of any Unsupervised Learning is that it’s application spectrum is limited.\n",
    "\n",
    "To counter these disadvantages, the concept of Semi-Supervised Learning was introduced. In this type of learning, the algorithm is trained upon a combination of labeled and unlabeled data. Typically, this combination will contain a very small amount of labeled data and a very large amount of unlabeled data. This is useful for a few reasons. First, the process of labeling massive amounts of data for supervised learning is often prohibitively time-consuming and expensive. What’s more, too much labeling can impose human biases on the model. That means including lots of unlabeled data during the training process actually tends to improve the accuracy of the final model while reducing the time and cost spent building it. You can use unsupervised learning techniques to discover and learn the structure in the input variables. You can also use supervised learning techniques to make best guess predictions for the unlabeled data, feed that data back into the supervised learning algorithm as training data and use the model to make predictions on new unseen data.\n",
    "\n",
    "Practical applications of Semi-Supervised Learning:-\n",
    "Speech Analysis: Since labeling of audio files is a very intensive task, Semi-Supervised learning is a very natural approach to solve this problem.\n",
    "Internet Content Classification: Labeling each webpage is an impractical and unfeasible process and thus uses Semi-Supervised learning algorithms.\n",
    "Protein Sequence Classification: Since DNA strands are typically very large in size, the rise of Semi-Supervised learning has been imminent in this field."
   ]
  },
  {
   "cell_type": "raw",
   "id": "d54c54a8-3bce-4b0e-ae73-6178f36fd419",
   "metadata": {},
   "source": [
    "Q.6 - What is train, test and validation split? Explain the importance of each term."
   ]
  },
  {
   "cell_type": "raw",
   "id": "0fa3ac05-f31b-414f-aa5d-6b4c1ceae2c0",
   "metadata": {},
   "source": [
    "Answer 6 :-\n",
    "          The first step in our classification task is to randomly split our pets into three independent sets:\n",
    "\n",
    "(1). Training Set: The dataset that we feed our model to learn potential underlying patterns and relationships.\n",
    "\n",
    "(2). Validation Set: The dataset that we use to understand our model's performance across different model types and hyperparameter choices.\n",
    "\n",
    "(3). Test Set: The dataset that we use to approximate our model's unbiased accuracy in the wild.\n",
    "\n",
    "\n",
    "1. The Training Set :-\n",
    "    \n",
    "The training set is the dataset that we employ to train our model. It is this dataset that our model uses to learn any underlying patterns or relationships that will enable making predictions later on.\n",
    "\n",
    "The training set should be as representative as possible of the population that we are trying to model. Additionally, we need to be careful and ensure that it is as unbiased as possible, as any bias at this stage may be propagated downstream during inference.\n",
    "\n",
    "  \n",
    "    Building Our Model-\n",
    "Our goal (to determine whether a given pet is a cat or a dog) is a binary classification task, so we will use a simple but effective model appropriate for this task: logistic regression.\n",
    "\n",
    "Logistic regression will learn a decision boundary to best separate the cats from dogs in our training data, using the selected feature (None, Weight, Fluffiness, or both Weight and Fluffiness).\n",
    "\n",
    "Select the feature to visualize the corresponding logistic regression model's decision boundary. Drag each animal in the training set to a new position to see how the boundary updates!\n",
    "\n",
    "\n",
    "\n",
    "2. The Validation Set :-\n",
    "    \n",
    "We can build four different logistic regression models (one for each feature possibility), how do we decide which model to select?\n",
    "\n",
    "We could compare the accuracy of each model on the training set, but if we use the same exact dataset for both training and tuning, the model will overfit and won't generalize well.\n",
    "\n",
    "This is where the validation set comes in — it acts as an independent, unbiased dataset for comparing the performance of different algorithms trained on our training set.\n",
    "\n",
    "Select a feature to view the model's performance on the validation set in the table below. Drag the pets across the line to see how the model performance updates!\n",
    "\n",
    "\n",
    "\n",
    "3. The Testing Test :-\n",
    "\n",
    "Once we have used the validation set to determine the algorithm and parameter choices that we would like to use in production, the test set is used to approximate the models's true performance in the wild. It is the final step in evaluating our model's performance on unseen data.\n",
    "\n",
    "We should never, under any circumstance, look at the test set's performance before selecting a model.\n",
    "\n",
    "Peeking at our test set performance ahead of time is a form of overfitting, and will likely lead to unreliable performance expectations in production. It should only be checked as the final form of evaluation, after the validation set has been used to identify the best model.\n"
   ]
  },
  {
   "cell_type": "raw",
   "id": "eaf26028-c850-4695-bd6d-494a04320b94",
   "metadata": {},
   "source": [
    "Q.7 - How can unsupervised learning be used in anomaly detection?"
   ]
  },
  {
   "cell_type": "raw",
   "id": "8a6d7457-92eb-4585-9d47-4191502393ba",
   "metadata": {},
   "source": [
    "Answer 7:-\n",
    "          Anomaly Detection\n",
    "Anomaly is a synonym for the word ‘outlier’. Anomaly detection (or outlier detection) is the identification of rare items, events or observations which raise suspicions by differing significantly from the majority of the data. Anomalous activities can be linked to some kind of problems or rare events such as bank fraud, medical problems, structural defects, malfunctioning equipment etc.\n",
    "\n",
    "The Need for Anomaly Detection :-\n",
    "\n",
    "According to a research by Domo published in June 2018, over 2.5 quintillion bytes of data were created every single day, and it was estimated that by 2020, close to 1.7MB of data would be created every second for every person on earth. And in times of CoViD-19, when the world economy has been stabilized by online businesses and online education systems, the number of users using the internet have increased with increased online activity and consequently, it’s safe to assume that data generated per person has increased manifold. In simple words, the digital footprint for a person as well as for an organization has sky-rocketed. The servers are flooded with user activity and this poses a huge challenge for all businesses. Fraudulent activities in banking systems, fake ids and spammers on social media and DDoS attacks on small businesses have the potential to collapse the respective organizations and this can only be prevented if there are ways to detect such malicious (anomalous) activity. Since there are tonnes of ways to induce a particular cyber-attack, it is very difficult to have information about all these attacks beforehand in a dataset. But, since the majority of the user activity online is normal, we can capture almost all the ways which indicate normal behaviour. And from the inclusion-exclusion principle, if an activity under scrutiny does not give indications of normal activity, we can predict with high confidence that the given activity is anomalous.\n",
    "\n",
    "\n",
    "Let us understand the above with an analogy. In the world of human diseases, normal activity can be compared with diseases such as malaria, dengue, swine-flu, etc. for which we have a cure. SarS-CoV-2 (CoViD-19), on the other hand, is an anomaly that has crept into our world of diseases, which has characteristics of a normal disease with the exception of delayed symptoms. Had the SarS-CoV-2 anomaly been detected in its very early stage, its spread could have been contained significantly and we wouldn’t have been facing a pandemic today. Since SarS-CoV-2 is an entirely new anomaly that has never been seen before, even a supervised learning procedure to detect this as an anomaly would have failed since a supervised learning model just learns patterns from the features and labels in the given dataset whereas by providing normal data of pre-existing diseases to an unsupervised learning algorithm, we could have detected this virus as an anomaly with high probability since it would not have fallen into the category (cluster) of normal diseases. I hope this gives enough intuition to realize the importance of Anomaly Detection and why unsupervised learning methods are preferred over supervised learning methods in most cases for such tasks.\n",
    "\n",
    "\n",
    "Anomaly Detection Algorithm :-\n",
    "\n",
    "There are different types of anomaly detection algorithms but the one we’ll be discussing today will start from feature-by-feature probability distribution and how it leads us to using Mahalanobis Distance for the anomaly detection algorithm.\n",
    "\n",
    "One of the most important assumptions for an unsupervised anomaly detection algorithm is that the dataset used for the learning purpose is assumed to have all non-anomalous training examples (or very very small fraction of anomalous examples). This might seem a very bold assumption but we just discussed in the previous section how less probable (but highly dangerous) an anomalous activity is. Also, the goal of the anomaly detection algorithm through the data fed to it is to learn the patterns of a normal activity so that when an anomalous activity occurs, we can flag it through the inclusion-exclusion principle. With this thing in mind, let’s discuss the anomaly detection algorithm in detail.\n",
    "\n",
    "Data points in a dataset usually have a certain type of distribution like the Gaussian (Normal) Distribution. Not all datasets follow a normal distribution but we can always apply certain transformation to features (which we’ll discuss in a later section) that convert the data’s distribution into a Normal Distribution, without any kind of loss in feature variance. Set of data points with Gaussian Distribution look as follows:\n"
   ]
  },
  {
   "cell_type": "raw",
   "id": "79999c12-37b5-4ff7-82ac-4b47a49e3c36",
   "metadata": {},
   "source": [
    "Q.8 - List down some commonly used supervised learning algorithms and unsupervised learning algorithms."
   ]
  },
  {
   "cell_type": "raw",
   "id": "0607e2e9-b6a0-4045-b986-e511b7d51297",
   "metadata": {},
   "source": [
    "Answer 8:-\n",
    "         Supervised Machine Learning :-\n",
    "    \n",
    "The majority of practical machine learning uses supervised learning.\n",
    "\n",
    "Supervised learning is where you have input variables (x) and an output variable (Y) and you use an algorithm to learn the mapping function from the input to the output.\n",
    "\n",
    "Y = f(X)\n",
    "\n",
    "The goal is to approximate the mapping function so well that when you have new input data (x) that you can predict the output variables (Y) for that data.\n",
    "\n",
    "It is called supervised learning because the process of an algorithm learning from the training dataset can be thought of as a teacher supervising the learning process. We know the correct answers, the algorithm iteratively makes predictions on the training data and is corrected by the teacher. Learning stops when the algorithm achieves an acceptable level of performance.\n",
    "\n",
    "Supervised learning problems can be further grouped into regression and classification problems.\n",
    "\n",
    "Classification: A classification problem is when the output variable is a category, such as “red” or “blue” or “disease” and “no disease”.\n",
    "Regression: A regression problem is when the output variable is a real value, such as “dollars” or “weight”.\n",
    "Some common types of problems built on top of classification and regression include recommendation and time series prediction respectively.\n",
    "\n",
    "Some popular examples of supervised machine learning algorithms are:\n",
    "\n",
    "Linear regression for regression problems.\n",
    "Random forest for classification and regression problems.\n",
    "Support vector machines for classification problems.\n",
    "\n",
    "       Unsupervised Machine Learning :-\n",
    "    \n",
    "Unsupervised learning is where you only have input data (X) and no corresponding output variables.\n",
    "\n",
    "The goal for unsupervised learning is to model the underlying structure or distribution in the data in order to learn more about the data.\n",
    "\n",
    "These are called unsupervised learning because unlike supervised learning above there is no correct answers and there is no teacher. Algorithms are left to their own devises to discover and present the interesting structure in the data.\n",
    "\n",
    "Unsupervised learning problems can be further grouped into clustering and association problems.\n",
    "\n",
    "Clustering: A clustering problem is where you want to discover the inherent groupings in the data, such as grouping customers by purchasing behavior.\n",
    "Association:  An association rule learning problem is where you want to discover rules that describe large portions of your data, such as people that buy X also tend to buy Y.\n",
    "Some popular examples of unsupervised learning algorithms are:\n",
    "\n",
    "k-means for clustering problems.\n",
    "Apriori algorithm for association rule learning problems."
   ]
  }
 ],
 "metadata": {
  "kernelspec": {
   "display_name": "Python 3 (ipykernel)",
   "language": "python",
   "name": "python3"
  },
  "language_info": {
   "codemirror_mode": {
    "name": "ipython",
    "version": 3
   },
   "file_extension": ".py",
   "mimetype": "text/x-python",
   "name": "python",
   "nbconvert_exporter": "python",
   "pygments_lexer": "ipython3",
   "version": "3.10.8"
  }
 },
 "nbformat": 4,
 "nbformat_minor": 5
}
